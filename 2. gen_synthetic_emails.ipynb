{
 "cells": [
  {
   "cell_type": "code",
   "execution_count": 2,
   "metadata": {},
   "outputs": [
    {
     "data": {
      "text/plain": [
       "True"
      ]
     },
     "execution_count": 2,
     "metadata": {},
     "output_type": "execute_result"
    }
   ],
   "source": [
    "import json\n",
    "import pandas as pd\n",
    "import numpy as np\n",
    "from langchain.chat_models import ChatOpenAI\n",
    "from langchain.prompts import PromptTemplate\n",
    "from langchain.schema.runnable import RunnablePassthrough\n",
    "\n",
    "from dotenv import load_dotenv\n",
    "load_dotenv()"
   ]
  },
  {
   "cell_type": "code",
   "execution_count": 3,
   "metadata": {},
   "outputs": [],
   "source": [
    "products_df = pd.read_csv(\"data/products_data.csv\")"
   ]
  },
  {
   "cell_type": "code",
   "execution_count": 6,
   "metadata": {},
   "outputs": [],
   "source": [
    "rand_sample_disruptions_df = products_df.sample(20)"
   ]
  },
  {
   "cell_type": "code",
   "execution_count": 10,
   "metadata": {},
   "outputs": [],
   "source": [
    "rng = np.random.default_rng()\n",
    "rand_sample_disruptions_df['delay_in_days'] = rng.integers(1, high=4, size=len(rand_sample_disruptions_df))"
   ]
  },
  {
   "cell_type": "code",
   "execution_count": 23,
   "metadata": {},
   "outputs": [],
   "source": [
    "# Define the prompt template\n",
    "prompt = PromptTemplate(\n",
    "    input_variables=[\"num_samples\"],\n",
    "    template=\"\"\"\n",
    "    Generate a synthetic email about supplier: {supplier} having a delay\n",
    "    in shipment of {qty} number of product {product} by {num_days} days.\n",
    "    The email should be addressed to: \"Nature’s Basket Mart\"\n",
    "    The email should start with: \"Dear Nature's Basket Mart employee, \\n\"\n",
    "    The email should have a believable reason as to why shipment was delayed\n",
    "    Output as a JSON with \"email\" as key\n",
    "    \"\"\"\n",
    ")\n",
    "\n",
    "# Initialize LLM\n",
    "llm = ChatOpenAI(model=\"gpt-4\")\n",
    "\n",
    "# Create a chain using RunnableSequence\n",
    "chain = (\n",
    "    RunnablePassthrough()  # Pass input directly\n",
    "    | prompt               # Format prompt\n",
    "    | llm                  # Pass to LLM\n",
    ")\n",
    "\n",
    "# Run the chain\n",
    "num_samples = 20\n",
    "\n",
    "emails_lst = []\n",
    "for i, row in rand_sample_disruptions_df.iterrows():\n",
    "    result = chain.invoke({\"supplier\": row['supplier'],\n",
    "                           \"qty\": row['daily_demand'] * row['lead_time'],\n",
    "                           \"product\": row['product_name'],\n",
    "                           \"num_days\": row['delay_in_days']})\n",
    "    emails_lst.append(result)"
   ]
  },
  {
   "cell_type": "code",
   "execution_count": 31,
   "metadata": {},
   "outputs": [],
   "source": [
    "emails_parsed_lst = []\n",
    "\n",
    "for email in emails_lst:\n",
    "    try:\n",
    "        parsed_email = json.loads(email.content, strict=False)\n",
    "        emails_parsed_lst.append(parsed_email)\n",
    "    except Exception as e:\n",
    "        print(email)\n",
    "        print(e)"
   ]
  },
  {
   "cell_type": "code",
   "execution_count": 33,
   "metadata": {},
   "outputs": [
    {
     "name": "stdout",
     "output_type": "stream",
     "text": [
      "JSON output saved to delay_emails.json\n"
     ]
    }
   ],
   "source": [
    "# Parse and save JSON output\n",
    "\n",
    "with open(\"data/delay_emails.json\", \"w\") as f:\n",
    "    json.dump(emails_parsed_lst, f, indent=4)  # Save as formatted JSON\n",
    "\n",
    "print(\"JSON output saved to delay_emails.json\")"
   ]
  }
 ],
 "metadata": {
  "kernelspec": {
   "display_name": "sco_llm",
   "language": "python",
   "name": "sco_llm"
  },
  "language_info": {
   "codemirror_mode": {
    "name": "ipython",
    "version": 3
   },
   "file_extension": ".py",
   "mimetype": "text/x-python",
   "name": "python",
   "nbconvert_exporter": "python",
   "pygments_lexer": "ipython3",
   "version": "3.12.4"
  }
 },
 "nbformat": 4,
 "nbformat_minor": 2
}
